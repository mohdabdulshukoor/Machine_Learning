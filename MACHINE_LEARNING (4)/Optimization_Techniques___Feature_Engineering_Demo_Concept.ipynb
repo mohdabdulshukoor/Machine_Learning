{
 "cells": [
  {
   "cell_type": "markdown",
   "metadata": {},
   "source": [
    "# Concept Session\n",
    "# Demo1: Data Exploration and Model Optimization\n",
    "# Importing Required Libraries"
   ]
  },
  {
   "cell_type": "code",
   "execution_count": 2,
   "metadata": {},
   "outputs": [],
   "source": [
    "import pandas as pd\n",
    "from string import ascii_letters\n",
    "import numpy as np\n",
    "import seaborn as sns\n",
    "import matplotlib.pyplot as plt\n",
    "\n",
    "import warnings\n",
    "warnings.filterwarnings(\"ignore\")\n",
    "\n",
    "from sklearn.model_selection import StratifiedKFold\n",
    "from sklearn.model_selection import KFold\n",
    "from sklearn.model_selection import train_test_split\n",
    "from sklearn.model_selection import GridSearchCV\n",
    "from sklearn import tree"
   ]
  },
  {
   "cell_type": "markdown",
   "metadata": {},
   "source": [
    "# Load Dataset"
   ]
  },
  {
   "cell_type": "code",
   "execution_count": 3,
   "metadata": {
    "scrolled": true
   },
   "outputs": [
    {
     "data": {
      "text/html": [
       "<div>\n",
       "<style scoped>\n",
       "    .dataframe tbody tr th:only-of-type {\n",
       "        vertical-align: middle;\n",
       "    }\n",
       "\n",
       "    .dataframe tbody tr th {\n",
       "        vertical-align: top;\n",
       "    }\n",
       "\n",
       "    .dataframe thead th {\n",
       "        text-align: right;\n",
       "    }\n",
       "</style>\n",
       "<table border=\"1\" class=\"dataframe\">\n",
       "  <thead>\n",
       "    <tr style=\"text-align: right;\">\n",
       "      <th></th>\n",
       "      <th>MinTemp</th>\n",
       "      <th>MaxTemp</th>\n",
       "      <th>WindGustSpeed</th>\n",
       "      <th>WindSpeed9am</th>\n",
       "      <th>WindSpeed3pm</th>\n",
       "      <th>RainTomorrow</th>\n",
       "    </tr>\n",
       "  </thead>\n",
       "  <tbody>\n",
       "    <tr>\n",
       "      <th>0</th>\n",
       "      <td>17.9</td>\n",
       "      <td>35.2</td>\n",
       "      <td>48.0</td>\n",
       "      <td>6.0</td>\n",
       "      <td>20.0</td>\n",
       "      <td>0</td>\n",
       "    </tr>\n",
       "    <tr>\n",
       "      <th>1</th>\n",
       "      <td>18.4</td>\n",
       "      <td>28.9</td>\n",
       "      <td>37.0</td>\n",
       "      <td>19.0</td>\n",
       "      <td>19.0</td>\n",
       "      <td>0</td>\n",
       "    </tr>\n",
       "    <tr>\n",
       "      <th>2</th>\n",
       "      <td>19.4</td>\n",
       "      <td>37.6</td>\n",
       "      <td>46.0</td>\n",
       "      <td>30.0</td>\n",
       "      <td>15.0</td>\n",
       "      <td>0</td>\n",
       "    </tr>\n",
       "    <tr>\n",
       "      <th>3</th>\n",
       "      <td>21.9</td>\n",
       "      <td>38.4</td>\n",
       "      <td>31.0</td>\n",
       "      <td>6.0</td>\n",
       "      <td>6.0</td>\n",
       "      <td>0</td>\n",
       "    </tr>\n",
       "    <tr>\n",
       "      <th>4</th>\n",
       "      <td>24.2</td>\n",
       "      <td>41.0</td>\n",
       "      <td>35.0</td>\n",
       "      <td>17.0</td>\n",
       "      <td>13.0</td>\n",
       "      <td>0</td>\n",
       "    </tr>\n",
       "    <tr>\n",
       "      <th>...</th>\n",
       "      <td>...</td>\n",
       "      <td>...</td>\n",
       "      <td>...</td>\n",
       "      <td>...</td>\n",
       "      <td>...</td>\n",
       "      <td>...</td>\n",
       "    </tr>\n",
       "    <tr>\n",
       "      <th>1995</th>\n",
       "      <td>17.5</td>\n",
       "      <td>31.3</td>\n",
       "      <td>35.0</td>\n",
       "      <td>24.0</td>\n",
       "      <td>6.0</td>\n",
       "      <td>0</td>\n",
       "    </tr>\n",
       "    <tr>\n",
       "      <th>1996</th>\n",
       "      <td>15.2</td>\n",
       "      <td>32.3</td>\n",
       "      <td>35.0</td>\n",
       "      <td>20.0</td>\n",
       "      <td>7.0</td>\n",
       "      <td>0</td>\n",
       "    </tr>\n",
       "    <tr>\n",
       "      <th>1997</th>\n",
       "      <td>17.2</td>\n",
       "      <td>33.7</td>\n",
       "      <td>46.0</td>\n",
       "      <td>20.0</td>\n",
       "      <td>19.0</td>\n",
       "      <td>0</td>\n",
       "    </tr>\n",
       "    <tr>\n",
       "      <th>1998</th>\n",
       "      <td>14.0</td>\n",
       "      <td>30.6</td>\n",
       "      <td>44.0</td>\n",
       "      <td>13.0</td>\n",
       "      <td>13.0</td>\n",
       "      <td>0</td>\n",
       "    </tr>\n",
       "    <tr>\n",
       "      <th>1999</th>\n",
       "      <td>14.2</td>\n",
       "      <td>30.9</td>\n",
       "      <td>39.0</td>\n",
       "      <td>11.0</td>\n",
       "      <td>17.0</td>\n",
       "      <td>0</td>\n",
       "    </tr>\n",
       "  </tbody>\n",
       "</table>\n",
       "<p>2000 rows × 6 columns</p>\n",
       "</div>"
      ],
      "text/plain": [
       "      MinTemp  MaxTemp  WindGustSpeed  WindSpeed9am  WindSpeed3pm  \\\n",
       "0        17.9     35.2           48.0           6.0          20.0   \n",
       "1        18.4     28.9           37.0          19.0          19.0   \n",
       "2        19.4     37.6           46.0          30.0          15.0   \n",
       "3        21.9     38.4           31.0           6.0           6.0   \n",
       "4        24.2     41.0           35.0          17.0          13.0   \n",
       "...       ...      ...            ...           ...           ...   \n",
       "1995     17.5     31.3           35.0          24.0           6.0   \n",
       "1996     15.2     32.3           35.0          20.0           7.0   \n",
       "1997     17.2     33.7           46.0          20.0          19.0   \n",
       "1998     14.0     30.6           44.0          13.0          13.0   \n",
       "1999     14.2     30.9           39.0          11.0          17.0   \n",
       "\n",
       "      RainTomorrow  \n",
       "0                0  \n",
       "1                0  \n",
       "2                0  \n",
       "3                0  \n",
       "4                0  \n",
       "...            ...  \n",
       "1995             0  \n",
       "1996             0  \n",
       "1997             0  \n",
       "1998             0  \n",
       "1999             0  \n",
       "\n",
       "[2000 rows x 6 columns]"
      ]
     },
     "execution_count": 3,
     "metadata": {},
     "output_type": "execute_result"
    }
   ],
   "source": [
    "# load dataset\n",
    "df = pd.read_csv('weather_australia_niit.csv')\n",
    "df = df.drop('Unnamed: 0', axis=1)\n",
    "df"
   ]
  },
  {
   "cell_type": "code",
   "execution_count": 4,
   "metadata": {},
   "outputs": [
    {
     "data": {
      "text/plain": [
       "<AxesSubplot:>"
      ]
     },
     "execution_count": 4,
     "metadata": {},
     "output_type": "execute_result"
    },
    {
     "data": {
      "image/png": "[encoded data removed]",
      "text/plain": [
       "<Figure size 792x648 with 2 Axes>"
      ]
     },
     "metadata": {
      "needs_background": "light"
     },
     "output_type": "display_data"
    }
   ],
   "source": [
    "corr = df.corr()\n",
    "\n",
    "# Generate a mask for the upper triangle\n",
    "mask = np.triu(np.ones_like(corr, dtype=bool))\n",
    "\n",
    "# Set up the matplotlib figure\n",
    "f, ax = plt.subplots(figsize=(11, 9))\n",
    "\n",
    "# Generate a custom diverging colormap\n",
    "cmap = sns.diverging_palette(230, 20, as_cmap=True)\n",
    "\n",
    "# Draw the heatmap with the mask and correct aspect ratio\n",
    "sns.heatmap(corr, mask=mask, cmap=cmap, vmax=.3, center=0,\n",
    "            square=True, linewidths=.5, cbar_kws={\"shrink\": .5})"
   ]
  },
  {
   "cell_type": "code",
   "execution_count": 5,
   "metadata": {},
   "outputs": [
    {
     "name": "stdout",
     "output_type": "stream",
     "text": [
      "<class 'pandas.core.frame.DataFrame'>\n",
      "RangeIndex: 2000 entries, 0 to 1999\n",
      "Data columns (total 6 columns):\n",
      " #   Column         Non-Null Count  Dtype  \n",
      "---  ------         --------------  -----  \n",
      " 0   MinTemp        2000 non-null   float64\n",
      " 1   MaxTemp        2000 non-null   float64\n",
      " 2   WindGustSpeed  2000 non-null   float64\n",
      " 3   WindSpeed9am   2000 non-null   float64\n",
      " 4   WindSpeed3pm   2000 non-null   float64\n",
      " 5   RainTomorrow   2000 non-null   int64  \n",
      "dtypes: float64(5), int64(1)\n",
      "memory usage: 93.9 KB\n"
     ]
    }
   ],
   "source": [
    "# print information of all columns with datatypes of the dataset\n",
    "df.info()"
   ]
  },
  {
   "cell_type": "markdown",
   "metadata": {},
   "source": [
    "# Train Model with Standard Hyperparameters\n"
   ]
  },
  {
   "cell_type": "code",
   "execution_count": 8,
   "metadata": {},
   "outputs": [
    {
     "name": "stdout",
     "output_type": "stream",
     "text": [
      "0    1497\n",
      "1     503\n",
      "Name: RainTomorrow, dtype: int64\n",
      "0    157\n",
      "1     43\n",
      "Name: RainTomorrow, dtype: int64\n",
      "0.745\n"
     ]
    }
   ],
   "source": [
    "y = df['RainTomorrow']\n",
    "X = df.drop('RainTomorrow', axis=1)\n",
    "print(y.value_counts())\n",
    "\n",
    "# split data\n",
    "X_train, X_test, y_train, y_test = train_test_split(X, y, test_size=0.10, random_state=0) \n",
    "print(y_test.value_counts())\n",
    "\n",
    "#clf = LogisticRegression(random_state=0).fit(X_train, y_train)\n",
    "clf = tree.DecisionTreeClassifier().fit(X_train, y_train)\n",
    "print(clf.score(X_test, y_test))"
   ]
  },
  {
   "cell_type": "markdown",
   "metadata": {},
   "source": [
    "# Grid Search"
   ]
  },
  {
   "cell_type": "code",
   "execution_count": 9,
   "metadata": {},
   "outputs": [
    {
     "name": "stdout",
     "output_type": "stream",
     "text": [
      "tuned hpyerparameters :(best parameters)  {'criterion': 'gini', 'max_depth': 6}\n"
     ]
    }
   ],
   "source": [
    "grid={\"C\":np.logspace(-3,3,7),\n",
    "      \"penalty\":[\"l1\",\"l2\"],\n",
    "      \"max_iter\":[10,50,100,500]}\n",
    "\n",
    "grid = {'criterion':['gini', 'entropy'],\n",
    "        'max_depth': [2,4,6,8,10,12]}\n",
    "\n",
    "clf = tree.DecisionTreeClassifier()\n",
    "\n",
    "#logreg=LogisticRegression()\n",
    "clf_cv=GridSearchCV(clf,grid, cv=5)\n",
    "\n",
    "clf_cv.fit(X_train,y_train)\n",
    "\n",
    "print(\"tuned hpyerparameters :(best parameters) \",clf_cv.best_params_)"
   ]
  },
  {
   "cell_type": "code",
   "execution_count": 18,
   "metadata": {
    "scrolled": true
   },
   "outputs": [
    {
     "name": "stdout",
     "output_type": "stream",
     "text": [
      "0.795\n"
     ]
    }
   ],
   "source": [
    "clf = tree.DecisionTreeClassifier(criterion='gini', max_depth=6).fit(X_train, y_train)\n",
    "print(clf.score(X_test, y_test))"
   ]
  },
  {
   "cell_type": "markdown",
   "metadata": {},
   "source": [
    "# Demo2: Cross Validation"
   ]
  },
  {
   "cell_type": "code",
   "execution_count": 23,
   "metadata": {},
   "outputs": [
    {
     "data": {
      "text/plain": [
       "array([ 400,  401,  402, ..., 1997, 1998, 1999])"
      ]
     },
     "execution_count": 23,
     "metadata": {},
     "output_type": "execute_result"
    }
   ],
   "source": [
    "train_index"
   ]
  },
  {
   "cell_type": "code",
   "execution_count": 26,
   "metadata": {},
   "outputs": [
    {
     "name": "stdout",
     "output_type": "stream",
     "text": [
      "tuned hpyerparameters :(best parameters)  {'criterion': 'entropy', 'max_depth': 4}\n",
      "0.8975\n",
      "tuned hpyerparameters :(best parameters)  {'criterion': 'entropy', 'max_depth': 4}\n",
      "0.8\n",
      "tuned hpyerparameters :(best parameters)  {'criterion': 'entropy', 'max_depth': 4}\n",
      "0.6975\n",
      "tuned hpyerparameters :(best parameters)  {'criterion': 'gini', 'max_depth': 6}\n",
      "0.7175\n",
      "tuned hpyerparameters :(best parameters)  {'criterion': 'entropy', 'max_depth': 2}\n",
      "0.7675\n"
     ]
    }
   ],
   "source": [
    "kf = KFold(n_splits=5)\n",
    "\n",
    "scores = []\n",
    "\n",
    "for train_index, test_index in kf.split(X):\n",
    "    X_train, X_test = X.iloc[train_index], X.iloc[test_index]\n",
    "    y_train, y_test = y.iloc[train_index], y.iloc[test_index]\n",
    "    grid={\"C\":np.logspace(-3,3,7), \"penalty\":[\"l1\",\"l2\"], \"max_iter\":[10,50,100,500]}\n",
    "    grid = {'criterion':['gini', 'entropy'],'max_depth': [2,4,6,8,10,12]}\n",
    "    clf = tree.DecisionTreeClassifier()\n",
    "\n",
    "    clf_cv=GridSearchCV(clf,grid, cv=5)\n",
    "    clf_cv.fit(X_train,y_train)\n",
    "    print(\"tuned hpyerparameters :(best parameters) \",clf_cv.best_params_)\n",
    "    clf = tree.DecisionTreeClassifier(criterion=clf_cv.best_params_['criterion'], max_depth=clf_cv.best_params_['max_depth']).fit(X_train, y_train)\n",
    "    s = clf.score(X_test, y_test)\n",
    "    print(s)\n",
    "    scores.append(s)"
   ]
  },
  {
   "cell_type": "code",
   "execution_count": 27,
   "metadata": {
    "scrolled": true
   },
   "outputs": [
    {
     "data": {
      "text/plain": [
       "0.776"
      ]
     },
     "execution_count": 27,
     "metadata": {},
     "output_type": "execute_result"
    }
   ],
   "source": [
    "np.array(scores).mean()"
   ]
  },
  {
   "cell_type": "markdown",
   "metadata": {},
   "source": [
    "## Stratified Cross Validation"
   ]
  },
  {
   "cell_type": "code",
   "execution_count": 29,
   "metadata": {},
   "outputs": [
    {
     "name": "stdout",
     "output_type": "stream",
     "text": [
      "tuned hpyerparameters :(best parameters)  {'criterion': 'entropy', 'max_depth': 4}\n",
      "0.8975\n",
      "tuned hpyerparameters :(best parameters)  {'criterion': 'gini', 'max_depth': 6}\n",
      "0.81\n",
      "tuned hpyerparameters :(best parameters)  {'criterion': 'entropy', 'max_depth': 4}\n",
      "0.6975\n",
      "tuned hpyerparameters :(best parameters)  {'criterion': 'gini', 'max_depth': 6}\n",
      "0.7175\n",
      "tuned hpyerparameters :(best parameters)  {'criterion': 'entropy', 'max_depth': 2}\n",
      "0.7675\n"
     ]
    }
   ],
   "source": [
    "skf = StratifiedKFold(n_splits=5)\n",
    "\n",
    "scores = []\n",
    "\n",
    "for train_index, test_index in kf.split(X):\n",
    "    X_train, X_test = X.iloc[train_index], X.iloc[test_index]\n",
    "    y_train, y_test = y.iloc[train_index], y.iloc[test_index]\n",
    "    grid={\"C\":np.logspace(-3,3,7), \"penalty\":[\"l1\",\"l2\"], \"max_iter\":[10,50,100,500]}\n",
    "    \n",
    "    grid = {'criterion':['gini', 'entropy'],'max_depth': [2,4,6,8,10,12]}\n",
    "    clf = tree.DecisionTreeClassifier()\n",
    "\n",
    "    clf_cv=GridSearchCV(clf,grid)\n",
    "    clf_cv.fit(X_train,y_train)\n",
    "    print(\"tuned hpyerparameters :(best parameters) \",clf_cv.best_params_)\n",
    "    clf = tree.DecisionTreeClassifier(criterion=clf_cv.best_params_['criterion'], max_depth=clf_cv.best_params_['max_depth']).fit(X_train, y_train)\n",
    "    s = clf.score(X_test, y_test)\n",
    "    print(s)\n",
    "    scores.append(s)"
   ]
  },
  {
   "cell_type": "code",
   "execution_count": 30,
   "metadata": {},
   "outputs": [
    {
     "data": {
      "text/plain": [
       "0.7780000000000001"
      ]
     },
     "execution_count": 30,
     "metadata": {},
     "output_type": "execute_result"
    }
   ],
   "source": [
    "np.array(scores).mean()"
   ]
  },
  {
   "cell_type": "markdown",
   "metadata": {},
   "source": [
    "# Demo3: Feature Engineering\n",
    "## 1. Mean Temperature"
   ]
  },
  {
   "cell_type": "code",
   "execution_count": 36,
   "metadata": {},
   "outputs": [
    {
     "data": {
      "text/html": [
       "<div>\n",
       "<style scoped>\n",
       "    .dataframe tbody tr th:only-of-type {\n",
       "        vertical-align: middle;\n",
       "    }\n",
       "\n",
       "    .dataframe tbody tr th {\n",
       "        vertical-align: top;\n",
       "    }\n",
       "\n",
       "    .dataframe thead th {\n",
       "        text-align: right;\n",
       "    }\n",
       "</style>\n",
       "<table border=\"1\" class=\"dataframe\">\n",
       "  <thead>\n",
       "    <tr style=\"text-align: right;\">\n",
       "      <th></th>\n",
       "      <th>MinTemp</th>\n",
       "      <th>MaxTemp</th>\n",
       "      <th>WindGustSpeed</th>\n",
       "      <th>RainTomorrow</th>\n",
       "      <th>meanTemp</th>\n",
       "      <th>meanWindSpeed</th>\n",
       "    </tr>\n",
       "  </thead>\n",
       "  <tbody>\n",
       "    <tr>\n",
       "      <th>0</th>\n",
       "      <td>17.9</td>\n",
       "      <td>35.2</td>\n",
       "      <td>48.0</td>\n",
       "      <td>0</td>\n",
       "      <td>26.55</td>\n",
       "      <td>13.0</td>\n",
       "    </tr>\n",
       "    <tr>\n",
       "      <th>1</th>\n",
       "      <td>18.4</td>\n",
       "      <td>28.9</td>\n",
       "      <td>37.0</td>\n",
       "      <td>0</td>\n",
       "      <td>23.65</td>\n",
       "      <td>19.0</td>\n",
       "    </tr>\n",
       "    <tr>\n",
       "      <th>2</th>\n",
       "      <td>19.4</td>\n",
       "      <td>37.6</td>\n",
       "      <td>46.0</td>\n",
       "      <td>0</td>\n",
       "      <td>28.50</td>\n",
       "      <td>22.5</td>\n",
       "    </tr>\n",
       "    <tr>\n",
       "      <th>3</th>\n",
       "      <td>21.9</td>\n",
       "      <td>38.4</td>\n",
       "      <td>31.0</td>\n",
       "      <td>0</td>\n",
       "      <td>30.15</td>\n",
       "      <td>6.0</td>\n",
       "    </tr>\n",
       "    <tr>\n",
       "      <th>4</th>\n",
       "      <td>24.2</td>\n",
       "      <td>41.0</td>\n",
       "      <td>35.0</td>\n",
       "      <td>0</td>\n",
       "      <td>32.60</td>\n",
       "      <td>15.0</td>\n",
       "    </tr>\n",
       "    <tr>\n",
       "      <th>...</th>\n",
       "      <td>...</td>\n",
       "      <td>...</td>\n",
       "      <td>...</td>\n",
       "      <td>...</td>\n",
       "      <td>...</td>\n",
       "      <td>...</td>\n",
       "    </tr>\n",
       "    <tr>\n",
       "      <th>1995</th>\n",
       "      <td>17.5</td>\n",
       "      <td>31.3</td>\n",
       "      <td>35.0</td>\n",
       "      <td>0</td>\n",
       "      <td>24.40</td>\n",
       "      <td>15.0</td>\n",
       "    </tr>\n",
       "    <tr>\n",
       "      <th>1996</th>\n",
       "      <td>15.2</td>\n",
       "      <td>32.3</td>\n",
       "      <td>35.0</td>\n",
       "      <td>0</td>\n",
       "      <td>23.75</td>\n",
       "      <td>13.5</td>\n",
       "    </tr>\n",
       "    <tr>\n",
       "      <th>1997</th>\n",
       "      <td>17.2</td>\n",
       "      <td>33.7</td>\n",
       "      <td>46.0</td>\n",
       "      <td>0</td>\n",
       "      <td>25.45</td>\n",
       "      <td>19.5</td>\n",
       "    </tr>\n",
       "    <tr>\n",
       "      <th>1998</th>\n",
       "      <td>14.0</td>\n",
       "      <td>30.6</td>\n",
       "      <td>44.0</td>\n",
       "      <td>0</td>\n",
       "      <td>22.30</td>\n",
       "      <td>13.0</td>\n",
       "    </tr>\n",
       "    <tr>\n",
       "      <th>1999</th>\n",
       "      <td>14.2</td>\n",
       "      <td>30.9</td>\n",
       "      <td>39.0</td>\n",
       "      <td>0</td>\n",
       "      <td>22.55</td>\n",
       "      <td>14.0</td>\n",
       "    </tr>\n",
       "  </tbody>\n",
       "</table>\n",
       "<p>2000 rows × 6 columns</p>\n",
       "</div>"
      ],
      "text/plain": [
       "      MinTemp  MaxTemp  WindGustSpeed  RainTomorrow  meanTemp  meanWindSpeed\n",
       "0        17.9     35.2           48.0             0     26.55           13.0\n",
       "1        18.4     28.9           37.0             0     23.65           19.0\n",
       "2        19.4     37.6           46.0             0     28.50           22.5\n",
       "3        21.9     38.4           31.0             0     30.15            6.0\n",
       "4        24.2     41.0           35.0             0     32.60           15.0\n",
       "...       ...      ...            ...           ...       ...            ...\n",
       "1995     17.5     31.3           35.0             0     24.40           15.0\n",
       "1996     15.2     32.3           35.0             0     23.75           13.5\n",
       "1997     17.2     33.7           46.0             0     25.45           19.5\n",
       "1998     14.0     30.6           44.0             0     22.30           13.0\n",
       "1999     14.2     30.9           39.0             0     22.55           14.0\n",
       "\n",
       "[2000 rows x 6 columns]"
      ]
     },
     "execution_count": 36,
     "metadata": {},
     "output_type": "execute_result"
    }
   ],
   "source": [
    "df"
   ]
  },
  {
   "cell_type": "code",
   "execution_count": 37,
   "metadata": {},
   "outputs": [
    {
     "data": {
      "text/html": [
       "<div>\n",
       "<style scoped>\n",
       "    .dataframe tbody tr th:only-of-type {\n",
       "        vertical-align: middle;\n",
       "    }\n",
       "\n",
       "    .dataframe tbody tr th {\n",
       "        vertical-align: top;\n",
       "    }\n",
       "\n",
       "    .dataframe thead th {\n",
       "        text-align: right;\n",
       "    }\n",
       "</style>\n",
       "<table border=\"1\" class=\"dataframe\">\n",
       "  <thead>\n",
       "    <tr style=\"text-align: right;\">\n",
       "      <th></th>\n",
       "      <th>MinTemp</th>\n",
       "      <th>MaxTemp</th>\n",
       "      <th>WindGustSpeed</th>\n",
       "      <th>RainTomorrow</th>\n",
       "      <th>meanTemp</th>\n",
       "      <th>meanWindSpeed</th>\n",
       "    </tr>\n",
       "  </thead>\n",
       "  <tbody>\n",
       "    <tr>\n",
       "      <th>0</th>\n",
       "      <td>17.9</td>\n",
       "      <td>35.2</td>\n",
       "      <td>48.0</td>\n",
       "      <td>0</td>\n",
       "      <td>26.55</td>\n",
       "      <td>13.0</td>\n",
       "    </tr>\n",
       "    <tr>\n",
       "      <th>1</th>\n",
       "      <td>18.4</td>\n",
       "      <td>28.9</td>\n",
       "      <td>37.0</td>\n",
       "      <td>0</td>\n",
       "      <td>23.65</td>\n",
       "      <td>19.0</td>\n",
       "    </tr>\n",
       "    <tr>\n",
       "      <th>2</th>\n",
       "      <td>19.4</td>\n",
       "      <td>37.6</td>\n",
       "      <td>46.0</td>\n",
       "      <td>0</td>\n",
       "      <td>28.50</td>\n",
       "      <td>22.5</td>\n",
       "    </tr>\n",
       "    <tr>\n",
       "      <th>3</th>\n",
       "      <td>21.9</td>\n",
       "      <td>38.4</td>\n",
       "      <td>31.0</td>\n",
       "      <td>0</td>\n",
       "      <td>30.15</td>\n",
       "      <td>6.0</td>\n",
       "    </tr>\n",
       "    <tr>\n",
       "      <th>4</th>\n",
       "      <td>24.2</td>\n",
       "      <td>41.0</td>\n",
       "      <td>35.0</td>\n",
       "      <td>0</td>\n",
       "      <td>32.60</td>\n",
       "      <td>15.0</td>\n",
       "    </tr>\n",
       "    <tr>\n",
       "      <th>...</th>\n",
       "      <td>...</td>\n",
       "      <td>...</td>\n",
       "      <td>...</td>\n",
       "      <td>...</td>\n",
       "      <td>...</td>\n",
       "      <td>...</td>\n",
       "    </tr>\n",
       "    <tr>\n",
       "      <th>1995</th>\n",
       "      <td>17.5</td>\n",
       "      <td>31.3</td>\n",
       "      <td>35.0</td>\n",
       "      <td>0</td>\n",
       "      <td>24.40</td>\n",
       "      <td>15.0</td>\n",
       "    </tr>\n",
       "    <tr>\n",
       "      <th>1996</th>\n",
       "      <td>15.2</td>\n",
       "      <td>32.3</td>\n",
       "      <td>35.0</td>\n",
       "      <td>0</td>\n",
       "      <td>23.75</td>\n",
       "      <td>13.5</td>\n",
       "    </tr>\n",
       "    <tr>\n",
       "      <th>1997</th>\n",
       "      <td>17.2</td>\n",
       "      <td>33.7</td>\n",
       "      <td>46.0</td>\n",
       "      <td>0</td>\n",
       "      <td>25.45</td>\n",
       "      <td>19.5</td>\n",
       "    </tr>\n",
       "    <tr>\n",
       "      <th>1998</th>\n",
       "      <td>14.0</td>\n",
       "      <td>30.6</td>\n",
       "      <td>44.0</td>\n",
       "      <td>0</td>\n",
       "      <td>22.30</td>\n",
       "      <td>13.0</td>\n",
       "    </tr>\n",
       "    <tr>\n",
       "      <th>1999</th>\n",
       "      <td>14.2</td>\n",
       "      <td>30.9</td>\n",
       "      <td>39.0</td>\n",
       "      <td>0</td>\n",
       "      <td>22.55</td>\n",
       "      <td>14.0</td>\n",
       "    </tr>\n",
       "  </tbody>\n",
       "</table>\n",
       "<p>2000 rows × 6 columns</p>\n",
       "</div>"
      ],
      "text/plain": [
       "      MinTemp  MaxTemp  WindGustSpeed  RainTomorrow  meanTemp  meanWindSpeed\n",
       "0        17.9     35.2           48.0             0     26.55           13.0\n",
       "1        18.4     28.9           37.0             0     23.65           19.0\n",
       "2        19.4     37.6           46.0             0     28.50           22.5\n",
       "3        21.9     38.4           31.0             0     30.15            6.0\n",
       "4        24.2     41.0           35.0             0     32.60           15.0\n",
       "...       ...      ...            ...           ...       ...            ...\n",
       "1995     17.5     31.3           35.0             0     24.40           15.0\n",
       "1996     15.2     32.3           35.0             0     23.75           13.5\n",
       "1997     17.2     33.7           46.0             0     25.45           19.5\n",
       "1998     14.0     30.6           44.0             0     22.30           13.0\n",
       "1999     14.2     30.9           39.0             0     22.55           14.0\n",
       "\n",
       "[2000 rows x 6 columns]"
      ]
     },
     "execution_count": 37,
     "metadata": {},
     "output_type": "execute_result"
    }
   ],
   "source": [
    "df['meanTemp'] = (df['MaxTemp']+ df['MinTemp']) / 2\n",
    "df"
   ]
  },
  {
   "cell_type": "markdown",
   "metadata": {},
   "source": [
    "## 2. Mean Wind speed"
   ]
  },
  {
   "cell_type": "code",
   "execution_count": 39,
   "metadata": {},
   "outputs": [],
   "source": [
    "# df['meanWindSpeed'] = (df['WindSpeed9am']+ df['WindSpeed3pm']) / 2\n",
    "# df = df.drop(['WindSpeed9am', 'WindSpeed3pm'], axis=1)\n",
    "# df"
   ]
  },
  {
   "cell_type": "markdown",
   "metadata": {},
   "source": [
    "## 3. Stratified Cross Validation"
   ]
  },
  {
   "cell_type": "code",
   "execution_count": 40,
   "metadata": {},
   "outputs": [
    {
     "name": "stdout",
     "output_type": "stream",
     "text": [
      "tuned hpyerparameters :(best parameters)  {'criterion': 'entropy', 'max_depth': 4}\n",
      "0.8975\n",
      "tuned hpyerparameters :(best parameters)  {'criterion': 'entropy', 'max_depth': 4}\n",
      "0.8\n",
      "tuned hpyerparameters :(best parameters)  {'criterion': 'entropy', 'max_depth': 4}\n",
      "0.6975\n",
      "tuned hpyerparameters :(best parameters)  {'criterion': 'gini', 'max_depth': 6}\n",
      "0.7175\n",
      "tuned hpyerparameters :(best parameters)  {'criterion': 'entropy', 'max_depth': 8}\n",
      "0.77\n"
     ]
    },
    {
     "data": {
      "image/png": "[encoded data removed]",
      "text/plain": [
       "<Figure size 432x288 with 1 Axes>"
      ]
     },
     "metadata": {
      "needs_background": "light"
     },
     "output_type": "display_data"
    }
   ],
   "source": [
    "skf = StratifiedKFold(n_splits=5)\n",
    "scores = []\n",
    "for train_index, test_index in kf.split(X):\n",
    "    X_train, X_test = X.iloc[train_index], X.iloc[test_index]\n",
    "    y_train, y_test = y.iloc[train_index], y.iloc[test_index]\n",
    "    grid={\"C\":np.logspace(-3,3,7), \"penalty\":[\"l1\",\"l2\"], \"max_iter\":[10,50,100,500]}\n",
    "    grid = {'criterion':['gini', 'entropy'],'max_depth': [2,4,6,8,10,12]}\n",
    "    clf = tree.DecisionTreeClassifier()\n",
    "\n",
    "    clf_cv=GridSearchCV(clf,grid)\n",
    "    clf_cv.fit(X_train,y_train)\n",
    "    print(\"tuned hpyerparameters :(best parameters) \",clf_cv.best_params_)\n",
    "    clf = tree.DecisionTreeClassifier(criterion=clf_cv.best_params_['criterion'], max_depth=clf_cv.best_params_['max_depth']).fit(X_train, y_train)\n",
    "    tree.plot_tree(clf)  \n",
    "    s = clf.score(X_test, y_test)\n",
    "    print(s)\n",
    "    scores.append(s)"
   ]
  },
  {
   "cell_type": "code",
   "execution_count": 41,
   "metadata": {},
   "outputs": [
    {
     "data": {
      "text/plain": [
       "0.7765"
      ]
     },
     "execution_count": 41,
     "metadata": {},
     "output_type": "execute_result"
    }
   ],
   "source": [
    "np.array(scores).mean()"
   ]
  },
  {
   "cell_type": "code",
   "execution_count": null,
   "metadata": {},
   "outputs": [],
   "source": []
  }
 ],
 "metadata": {
  "kernelspec": {
   "display_name": "Python 3 (ipykernel)",
   "language": "python",
   "name": "python3"
  },
  "language_info": {
   "codemirror_mode": {
    "name": "ipython",
    "version": 3
   },
   "file_extension": ".py",
   "mimetype": "text/x-python",
   "name": "python",
   "nbconvert_exporter": "python",
   "pygments_lexer": "ipython3",
   "version": "3.10.2"
  }
 },
 "nbformat": 4,
 "nbformat_minor": 4
}
