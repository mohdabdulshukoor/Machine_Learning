{
 "cells": [
  {
   "cell_type": "markdown",
   "metadata": {},
   "source": [
    "# Concept Session\n",
    "## Importing Libraries"
   ]
  },
  {
   "cell_type": "code",
   "execution_count": 1,
   "metadata": {},
   "outputs": [],
   "source": [
    "import numpy as np\n",
    "import pandas as pd \n",
    "from sklearn import datasets, neighbors\n",
    "import matplotlib.pyplot as plt\n",
    "from ipywidgets import interactive\n",
    "\n",
    "%matplotlib inline"
   ]
  },
  {
   "cell_type": "markdown",
   "metadata": {},
   "source": [
    "# Demo1: k-Nearest Neighbor"
   ]
  },
  {
   "cell_type": "markdown",
   "metadata": {},
   "source": [
    "### Showing the impact of the number of neighbors on the prediction"
   ]
  },
  {
   "cell_type": "code",
   "execution_count": 5,
   "metadata": {},
   "outputs": [],
   "source": [
    "def knn(k):\n",
    "    iris = datasets.load_iris()\n",
    "    \n",
    "    # the data\n",
    "    X = iris.data[:, 0:2]\n",
    "    y = iris.target\n",
    "\n",
    "    # learning the classifier\n",
    "    clf = neighbors.KNeighborsClassifier(k)\n",
    "    clf.fit(X, y)\n",
    "\n",
    "    # Plot the decision boundary. Predict on a mesh\n",
    "    h = 0.05\n",
    "    x_min, x_max = X[:, 0].min() - 1, X[:, 0].max() + 1\n",
    "    y_min, y_max = X[:, 1].min() - 1, X[:, 1].max() + 1\n",
    "    xx, yy = np.meshgrid(np.arange(x_min, x_max, h),\n",
    "                            np.arange(y_min, y_max, h))\n",
    "    Z = clf.predict(np.c_[xx.ravel(), yy.ravel()])\n",
    "\n",
    "    \n",
    "    Z = Z.reshape(xx.shape)\n",
    "\n",
    "    # create a contour plot\n",
    "    plt.figure(figsize=(8, 6))\n",
    "    plt.contourf(xx, yy, Z, alpha=0.2)\n",
    "\n",
    "    # Plot also the training points\n",
    "    plt.scatter(x=X[:, 0], y=X[:, 1], c=y)\n",
    "    plt.xlim(xx.min(), xx.max())\n",
    "    plt.ylim(yy.min(), yy.max())\n",
    "    plt.title(\"3-Class classification (k = %i)\"\n",
    "                % (k))\n",
    "    plt.xlabel(iris.feature_names[0])\n",
    "    plt.ylabel(iris.feature_names[1])\n",
    "\n",
    "    plt.show()"
   ]
  },
  {
   "cell_type": "code",
   "execution_count": 3,
   "metadata": {},
   "outputs": [
    {
     "data": {
      "application/vnd.jupyter.widget-view+json": {
       "model_id": "afe01493587941e58ba017aa36d75b7a",
       "version_major": 2,
       "version_minor": 0
      },
      "text/plain": [
       "interactive(children=(IntSlider(value=9, description='k', max=20, min=1, step=2), Output()), _dom_classes=('wi…"
      ]
     },
     "metadata": {},
     "output_type": "display_data"
    }
   ],
   "source": [
    "interactive_plot = interactive(knn, k=(1, 20, 2))\n",
    "output = interactive_plot.children[-1]\n",
    "\n",
    "interactive_plot"
   ]
  },
  {
   "cell_type": "markdown",
   "metadata": {},
   "source": [
    "### If you play around with k, you should notice the following:\n",
    "- for small k, there are very small regions around every point\n",
    "- if you enlarge it, the region around the single yellow point on the left smoothens out fastly\n",
    "- with medium k, reactivated regions pop up in the lower right, where the prediction (blue) is not intuitive anymore\n",
    "- large k smoothens out this effect but handles many points as outliers"
   ]
  },
  {
   "cell_type": "markdown",
   "metadata": {},
   "source": [
    "# Demo 2:\n",
    "## 1. From count data to conditional distributions\n",
    "\n",
    "### Dataset: Quinlan, J. Ross. \"Induction of decision trees.\" Machine learning 1.1 (1986): 81-106.\n",
    "\n",
    "### Input columns (outlook, temperature, humidity, windy) tell if a person plays golf given the Saturday morning attributes."
   ]
  },
  {
   "cell_type": "code",
   "execution_count": 5,
   "metadata": {},
   "outputs": [
    {
     "data": {
      "text/html": [
       "<div>\n",
       "<style scoped>\n",
       "    .dataframe tbody tr th:only-of-type {\n",
       "        vertical-align: middle;\n",
       "    }\n",
       "\n",
       "    .dataframe tbody tr th {\n",
       "        vertical-align: top;\n",
       "    }\n",
       "\n",
       "    .dataframe thead th {\n",
       "        text-align: right;\n",
       "    }\n",
       "</style>\n",
       "<table border=\"1\" class=\"dataframe\">\n",
       "  <thead>\n",
       "    <tr style=\"text-align: right;\">\n",
       "      <th></th>\n",
       "      <th>outlook</th>\n",
       "      <th>temperature</th>\n",
       "      <th>humidity</th>\n",
       "      <th>windy</th>\n",
       "      <th>play</th>\n",
       "    </tr>\n",
       "  </thead>\n",
       "  <tbody>\n",
       "    <tr>\n",
       "      <th>0</th>\n",
       "      <td>sunny</td>\n",
       "      <td>hot</td>\n",
       "      <td>high</td>\n",
       "      <td>false</td>\n",
       "      <td>0</td>\n",
       "    </tr>\n",
       "    <tr>\n",
       "      <th>1</th>\n",
       "      <td>sunny</td>\n",
       "      <td>hot</td>\n",
       "      <td>high</td>\n",
       "      <td>true</td>\n",
       "      <td>0</td>\n",
       "    </tr>\n",
       "    <tr>\n",
       "      <th>2</th>\n",
       "      <td>overcast</td>\n",
       "      <td>hot</td>\n",
       "      <td>high</td>\n",
       "      <td>false</td>\n",
       "      <td>1</td>\n",
       "    </tr>\n",
       "    <tr>\n",
       "      <th>3</th>\n",
       "      <td>rain</td>\n",
       "      <td>mild</td>\n",
       "      <td>high</td>\n",
       "      <td>false</td>\n",
       "      <td>1</td>\n",
       "    </tr>\n",
       "    <tr>\n",
       "      <th>4</th>\n",
       "      <td>rain</td>\n",
       "      <td>cool</td>\n",
       "      <td>normal</td>\n",
       "      <td>false</td>\n",
       "      <td>1</td>\n",
       "    </tr>\n",
       "    <tr>\n",
       "      <th>5</th>\n",
       "      <td>rain</td>\n",
       "      <td>cool</td>\n",
       "      <td>normal</td>\n",
       "      <td>true</td>\n",
       "      <td>0</td>\n",
       "    </tr>\n",
       "    <tr>\n",
       "      <th>6</th>\n",
       "      <td>overcast</td>\n",
       "      <td>cool</td>\n",
       "      <td>normal</td>\n",
       "      <td>true</td>\n",
       "      <td>1</td>\n",
       "    </tr>\n",
       "    <tr>\n",
       "      <th>7</th>\n",
       "      <td>sunny</td>\n",
       "      <td>mild</td>\n",
       "      <td>high</td>\n",
       "      <td>false</td>\n",
       "      <td>0</td>\n",
       "    </tr>\n",
       "    <tr>\n",
       "      <th>8</th>\n",
       "      <td>sunny</td>\n",
       "      <td>cool</td>\n",
       "      <td>normal</td>\n",
       "      <td>false</td>\n",
       "      <td>1</td>\n",
       "    </tr>\n",
       "    <tr>\n",
       "      <th>9</th>\n",
       "      <td>rain</td>\n",
       "      <td>mild</td>\n",
       "      <td>normal</td>\n",
       "      <td>false</td>\n",
       "      <td>1</td>\n",
       "    </tr>\n",
       "    <tr>\n",
       "      <th>10</th>\n",
       "      <td>sunny</td>\n",
       "      <td>mild</td>\n",
       "      <td>normal</td>\n",
       "      <td>true</td>\n",
       "      <td>1</td>\n",
       "    </tr>\n",
       "    <tr>\n",
       "      <th>11</th>\n",
       "      <td>overcast</td>\n",
       "      <td>mild</td>\n",
       "      <td>high</td>\n",
       "      <td>true</td>\n",
       "      <td>1</td>\n",
       "    </tr>\n",
       "    <tr>\n",
       "      <th>12</th>\n",
       "      <td>overcast</td>\n",
       "      <td>hot</td>\n",
       "      <td>normal</td>\n",
       "      <td>false</td>\n",
       "      <td>1</td>\n",
       "    </tr>\n",
       "    <tr>\n",
       "      <th>13</th>\n",
       "      <td>rain</td>\n",
       "      <td>mild</td>\n",
       "      <td>high</td>\n",
       "      <td>true</td>\n",
       "      <td>0</td>\n",
       "    </tr>\n",
       "  </tbody>\n",
       "</table>\n",
       "</div>"
      ],
      "text/plain": [
       "     outlook temperature humidity  windy play\n",
       "0      sunny         hot     high  false    0\n",
       "1      sunny         hot     high   true    0\n",
       "2   overcast         hot     high  false    1\n",
       "3       rain        mild     high  false    1\n",
       "4       rain        cool   normal  false    1\n",
       "5       rain        cool   normal   true    0\n",
       "6   overcast        cool   normal   true    1\n",
       "7      sunny        mild     high  false    0\n",
       "8      sunny        cool   normal  false    1\n",
       "9       rain        mild   normal  false    1\n",
       "10     sunny        mild   normal   true    1\n",
       "11  overcast        mild     high   true    1\n",
       "12  overcast         hot   normal  false    1\n",
       "13      rain        mild     high   true    0"
      ]
     },
     "execution_count": 5,
     "metadata": {},
     "output_type": "execute_result"
    }
   ],
   "source": [
    "outlook = ['sunny']*2 + ['overcast'] + ['rain']*3 + ['overcast'] + ['sunny']*2 + ['rain'] + ['sunny'] + ['overcast'] * 2 + ['rain']\n",
    "temperature = ['hot']*3 + ['mild'] + ['cool']*3+ ['mild'] + ['cool'] + ['mild']*3 + ['hot', 'mild']\n",
    "humidity = ['high']*4 + ['normal']*3 + ['high'] + ['normal']*3 + ['high', 'normal', 'high']\n",
    "windy = ['false', 'true'] + ['false'] * 3 + ['true']*2 + ['false']*3 + ['true']*2 + ['false', 'true']\n",
    "play = ['0', '0', '1', '1', '1', '0', '1', '0', '1', '1', '1', '1', '1', '0']\n",
    "\n",
    "df = pd.DataFrame(list(zip(outlook, temperature, humidity, windy, play)), columns = ['outlook', 'temperature', 'humidity', 'windy', 'play'])\n",
    "df"
   ]
  },
  {
   "cell_type": "code",
   "execution_count": 6,
   "metadata": {},
   "outputs": [
    {
     "name": "stdout",
     "output_type": "stream",
     "text": [
      "play  outlook \n",
      "0     sunny       3\n",
      "      rain        2\n",
      "1     overcast    4\n",
      "      rain        3\n",
      "      sunny       2\n",
      "Name: outlook, dtype: int64\n",
      "play  temperature\n",
      "0     hot            2\n",
      "      mild           2\n",
      "      cool           1\n",
      "1     mild           4\n",
      "      cool           3\n",
      "      hot            2\n",
      "Name: temperature, dtype: int64\n",
      "play  humidity\n",
      "0     high        4\n",
      "      normal      1\n",
      "1     normal      6\n",
      "      high        3\n",
      "Name: humidity, dtype: int64\n",
      "play  windy\n",
      "0     true     3\n",
      "      false    2\n",
      "1     false    6\n",
      "      true     3\n",
      "Name: windy, dtype: int64\n"
     ]
    }
   ],
   "source": [
    "# for each input column: get the number of counts, the user plays\n",
    "features = ['outlook', 'temperature', 'humidity', 'windy']\n",
    "\n",
    "for feature in features:\n",
    "    print(df.groupby('play')[feature].value_counts())"
   ]
  },
  {
   "cell_type": "code",
   "execution_count": 7,
   "metadata": {},
   "outputs": [
    {
     "name": "stdout",
     "output_type": "stream",
     "text": [
      "play  outlook \n",
      "0     sunny       0.600000\n",
      "      rain        0.400000\n",
      "1     overcast    0.444444\n",
      "      rain        0.333333\n",
      "      sunny       0.222222\n",
      "Name: outlook, dtype: float64\n",
      "play  temperature\n",
      "0     hot            0.400000\n",
      "      mild           0.400000\n",
      "      cool           0.200000\n",
      "1     mild           0.444444\n",
      "      cool           0.333333\n",
      "      hot            0.222222\n",
      "Name: temperature, dtype: float64\n",
      "play  humidity\n",
      "0     high        0.800000\n",
      "      normal      0.200000\n",
      "1     normal      0.666667\n",
      "      high        0.333333\n",
      "Name: humidity, dtype: float64\n",
      "play  windy\n",
      "0     true     0.600000\n",
      "      false    0.400000\n",
      "1     false    0.666667\n",
      "      true     0.333333\n",
      "Name: windy, dtype: float64\n"
     ]
    }
   ],
   "source": [
    "# get the conditional probabilities by dividing over all entries\n",
    "for feature in features:\n",
    "    print(df.groupby('play')[feature].value_counts() / df.groupby('play')[feature].count())"
   ]
  },
  {
   "cell_type": "code",
   "execution_count": 8,
   "metadata": {},
   "outputs": [
    {
     "data": {
      "text/plain": [
       "1    0.642857\n",
       "0    0.357143\n",
       "Name: play, dtype: float64"
      ]
     },
     "execution_count": 8,
     "metadata": {},
     "output_type": "execute_result"
    }
   ],
   "source": [
    "# the marginal probabilities of 'play'\n",
    "df['play'].value_counts()/ df['play'].count()"
   ]
  },
  {
   "cell_type": "markdown",
   "metadata": {},
   "source": [
    "# 2. Predicting with sklearn's naive bayes\n"
   ]
  },
  {
   "cell_type": "markdown",
   "metadata": {},
   "source": [
    "## plain categorical naive bayes\n",
    "### preprocessing"
   ]
  },
  {
   "cell_type": "code",
   "execution_count": 9,
   "metadata": {},
   "outputs": [
    {
     "data": {
      "text/html": [
       "<div>\n",
       "<style scoped>\n",
       "    .dataframe tbody tr th:only-of-type {\n",
       "        vertical-align: middle;\n",
       "    }\n",
       "\n",
       "    .dataframe tbody tr th {\n",
       "        vertical-align: top;\n",
       "    }\n",
       "\n",
       "    .dataframe thead th {\n",
       "        text-align: right;\n",
       "    }\n",
       "</style>\n",
       "<table border=\"1\" class=\"dataframe\">\n",
       "  <thead>\n",
       "    <tr style=\"text-align: right;\">\n",
       "      <th></th>\n",
       "      <th>outlook</th>\n",
       "      <th>temperature</th>\n",
       "      <th>humidity</th>\n",
       "      <th>windy</th>\n",
       "      <th>play</th>\n",
       "    </tr>\n",
       "  </thead>\n",
       "  <tbody>\n",
       "    <tr>\n",
       "      <th>0</th>\n",
       "      <td>2</td>\n",
       "      <td>1</td>\n",
       "      <td>0</td>\n",
       "      <td>0</td>\n",
       "      <td>0</td>\n",
       "    </tr>\n",
       "    <tr>\n",
       "      <th>1</th>\n",
       "      <td>2</td>\n",
       "      <td>1</td>\n",
       "      <td>0</td>\n",
       "      <td>1</td>\n",
       "      <td>0</td>\n",
       "    </tr>\n",
       "    <tr>\n",
       "      <th>2</th>\n",
       "      <td>0</td>\n",
       "      <td>1</td>\n",
       "      <td>0</td>\n",
       "      <td>0</td>\n",
       "      <td>1</td>\n",
       "    </tr>\n",
       "    <tr>\n",
       "      <th>3</th>\n",
       "      <td>1</td>\n",
       "      <td>2</td>\n",
       "      <td>0</td>\n",
       "      <td>0</td>\n",
       "      <td>1</td>\n",
       "    </tr>\n",
       "    <tr>\n",
       "      <th>4</th>\n",
       "      <td>1</td>\n",
       "      <td>0</td>\n",
       "      <td>1</td>\n",
       "      <td>0</td>\n",
       "      <td>1</td>\n",
       "    </tr>\n",
       "  </tbody>\n",
       "</table>\n",
       "</div>"
      ],
      "text/plain": [
       "   outlook  temperature  humidity  windy  play\n",
       "0        2            1         0      0     0\n",
       "1        2            1         0      1     0\n",
       "2        0            1         0      0     1\n",
       "3        1            2         0      0     1\n",
       "4        1            0         1      0     1"
      ]
     },
     "execution_count": 9,
     "metadata": {},
     "output_type": "execute_result"
    }
   ],
   "source": [
    "# in sklearn, we need to transform all categories to integers. Therefore, we use its' \"labelencoder\"\n",
    "\n",
    "from sklearn.naive_bayes import CategoricalNB\n",
    "from sklearn.preprocessing import LabelEncoder\n",
    "\n",
    "def get_encoded_df(df, columns=None):\n",
    "    if columns == None:\n",
    "        columns = df.columns\n",
    "\n",
    "    for col in columns:\n",
    "        le = LabelEncoder()\n",
    "        df[col] = le.fit_transform(df[col])\n",
    "\n",
    "    return df\n",
    "\n",
    "\n",
    "df_encoded = get_encoded_df(df)\n",
    "df_encoded.head()\n",
    "#"
   ]
  },
  {
   "cell_type": "markdown",
   "metadata": {},
   "source": [
    "### initiating the model"
   ]
  },
  {
   "cell_type": "code",
   "execution_count": 10,
   "metadata": {},
   "outputs": [
    {
     "data": {
      "text/plain": [
       "CategoricalNB()"
      ]
     },
     "execution_count": 10,
     "metadata": {},
     "output_type": "execute_result"
    }
   ],
   "source": [
    "features = ['outlook', 'temperature', 'humidity', 'windy']\n",
    "labels = 'play'\n",
    "\n",
    "X = df_encoded[features]\n",
    "y = df_encoded[labels]\n",
    "\n",
    "clf = CategoricalNB()\n",
    "clf.fit(X, y)"
   ]
  },
  {
   "cell_type": "markdown",
   "metadata": {},
   "source": [
    "### making a prediction"
   ]
  },
  {
   "cell_type": "code",
   "execution_count": 11,
   "metadata": {},
   "outputs": [
    {
     "data": {
      "text/plain": [
       "array([0])"
      ]
     },
     "execution_count": 11,
     "metadata": {},
     "output_type": "execute_result"
    }
   ],
   "source": [
    "x_new = np.array([[2, 0, 0, 1]])\n",
    "\n",
    "clf.predict(x_new)"
   ]
  },
  {
   "cell_type": "markdown",
   "metadata": {},
   "source": [
    "### Laplacian smoothing is the default:"
   ]
  },
  {
   "cell_type": "code",
   "execution_count": 12,
   "metadata": {},
   "outputs": [],
   "source": [
    "CategoricalNB?"
   ]
  },
  {
   "cell_type": "markdown",
   "metadata": {},
   "source": [
    "## Gaussian Naive Bayes\n",
    "is implemented in sklearn, but we can use only numerical features, therefore we generate new \"random\" data"
   ]
  },
  {
   "cell_type": "code",
   "execution_count": 13,
   "metadata": {},
   "outputs": [
    {
     "name": "stdout",
     "output_type": "stream",
     "text": [
      "[[ 2.40515148 18.768406   80.79978688 15.01540824]\n",
      " [ 1.40554339 20.44641532 77.42156633 16.31462848]\n",
      " [ 3.25795038 20.14599138 -5.28858414 19.50406665]\n",
      " [ 2.29606264 21.6165749  42.28306827 23.07014771]\n",
      " [ 4.74826428 19.67959497 32.51911147 13.92230838]\n",
      " [ 2.50021424 18.62827249 91.96338489 12.80844948]\n",
      " [ 1.67911885 19.72777735 51.89456853 16.22988241]\n",
      " [ 2.46482375 20.69439061 78.63792283 13.65927081]\n",
      " [ 4.29051697 20.85406145 43.30385356 12.07912857]\n",
      " [ 3.31911481 23.22137124 49.58757578 13.68215535]]\n",
      "[0. 1. 0. 0. 0. 0. 1. 1. 0. 0.]\n"
     ]
    }
   ],
   "source": [
    "from numpy.random import default_rng\n",
    "rng = default_rng()\n",
    "vals = rng.standard_normal(10)\n",
    "\n",
    "# for each input column: get the number of counts, the user plays\n",
    "features = ['number of clouds', 'temperature', 'humidity', 'wind speed']\n",
    "n_samples = 100\n",
    "\n",
    "n_clouds = 3 + rng.standard_normal(n_samples)*1\n",
    "temperatures_numeric = 20 + rng.standard_normal(n_samples) * 2\n",
    "humidity = 50 + rng.standard_normal(n_samples) * 20\n",
    "wind_speed = 15 + rng.standard_normal(n_samples) * 5\n",
    "\n",
    "X = np.array([n_clouds, temperatures_numeric, humidity, wind_speed]).T\n",
    "print(X[:10])\n",
    "\n",
    "# do not play, if the number of clouds is larger than 3, if the humidity is higher than 80 % and if the wind speed is larger than 20 km/h\n",
    "y = np.ones((X.shape[0]))\n",
    "y[X[:, 0] > 3] = 0\n",
    "y[X[:, 2] > 80] = 0\n",
    "y[X[:, 3] > 20] = 0\n",
    "print(y[:10])"
   ]
  },
  {
   "cell_type": "code",
   "execution_count": 14,
   "metadata": {},
   "outputs": [],
   "source": [
    "# create a split to have prediction data\n",
    "X_train, y_train = X[:79], y[:79]\n",
    "X_test, y_test = X[79:], y[79:]"
   ]
  },
  {
   "cell_type": "code",
   "execution_count": 15,
   "metadata": {},
   "outputs": [
    {
     "data": {
      "text/plain": [
       "GaussianNB()"
      ]
     },
     "execution_count": 15,
     "metadata": {},
     "output_type": "execute_result"
    }
   ],
   "source": [
    "from sklearn.naive_bayes import GaussianNB\n",
    "\n",
    "gnb = GaussianNB()\n",
    "gnb.fit(X_train, y_train)"
   ]
  },
  {
   "cell_type": "code",
   "execution_count": 16,
   "metadata": {},
   "outputs": [
    {
     "data": {
      "text/plain": [
       "array([0., 1., 0., 0., 0., 0., 1., 0., 1., 0., 0., 1., 1., 0., 1., 0., 0.,\n",
       "       1., 0., 0., 1.])"
      ]
     },
     "execution_count": 16,
     "metadata": {},
     "output_type": "execute_result"
    }
   ],
   "source": [
    "gnb.predict(X_test)"
   ]
  },
  {
   "cell_type": "code",
   "execution_count": 17,
   "metadata": {},
   "outputs": [
    {
     "data": {
      "text/plain": [
       "array([0., 1., 0., 1., 0., 0., 1., 0., 1., 1., 0., 1., 1., 0., 1., 0., 0.,\n",
       "       1., 0., 0., 1.])"
      ]
     },
     "execution_count": 17,
     "metadata": {},
     "output_type": "execute_result"
    }
   ],
   "source": [
    "y_test"
   ]
  },
  {
   "cell_type": "markdown",
   "metadata": {},
   "source": [
    "### Result: \n",
    "\n",
    "The classifier is fine, there is only one wrong prediction."
   ]
  },
  {
   "cell_type": "code",
   "execution_count": null,
   "metadata": {},
   "outputs": [],
   "source": []
  }
 ],
 "metadata": {
  "interpreter": {
   "hash": "2ea2e16c350d705af5c53d1a1427ef630648ff06993d86a336e485bd07c426f3"
  },
  "kernelspec": {
   "display_name": "Python 3 (ipykernel)",
   "language": "python",
   "name": "python3"
  },
  "language_info": {
   "codemirror_mode": {
    "name": "ipython",
    "version": 3
   },
   "file_extension": ".py",
   "mimetype": "text/x-python",
   "name": "python",
   "nbconvert_exporter": "python",
   "pygments_lexer": "ipython3",
   "version": "3.10.2"
  }
 },
 "nbformat": 4,
 "nbformat_minor": 2
}
